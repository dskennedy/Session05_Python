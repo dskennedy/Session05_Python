{
 "cells": [
  {
   "cell_type": "code",
   "execution_count": 9,
   "metadata": {},
   "outputs": [
    {
     "name": "stdout",
     "output_type": "stream",
     "text": [
      "Exception occured........\n"
     ]
    }
   ],
   "source": [
    "#Problem statement 1\n",
    "# This code is catches the exeption when there is any exception scenarion while executing the statements in between try & except.\n",
    "try:\n",
    "    x=5/0\n",
    "except: # except is getting executed when exception scenarion occred.\n",
    "    print(\"Exception occured........\")"
   ]
  },
  {
   "cell_type": "code",
   "execution_count": 10,
   "metadata": {},
   "outputs": [
    {
     "name": "stdout",
     "output_type": "stream",
     "text": [
      "Americans play Baseball\n",
      "Americans play Cricket\n",
      "Americans watch Baseball\n",
      "Americans watch Cricket\n",
      "Indians play Baseball\n",
      "Indians play Cricket\n",
      "Indians watch Baseball\n",
      "Indians watch Cricket\n"
     ]
    }
   ],
   "source": [
    "#Problem statement 2\n",
    "\n",
    "subjects=[\"Americans\",\"Indians\"] #An array declaration for subjects\n",
    "verbs=[\"play\",\"watch\"] #An array declaration for verbs\n",
    "objects=[\"Baseball\",\"Cricket\"] #An array declaration for objects\n",
    "for subj in subjects: #looping all the elements in subjects array\n",
    "    for verb in verbs: # inner looping all the elements in verbs array\n",
    "        for obj in objects: # inner looping all the elements in objects array\n",
    "            print(subj+' '+verb+' '+obj) #concadinating the strings and printing the final value"
   ]
  },
  {
   "cell_type": "code",
   "execution_count": null,
   "metadata": {},
   "outputs": [],
   "source": []
  }
 ],
 "metadata": {
  "kernelspec": {
   "display_name": "Python 3",
   "language": "python",
   "name": "python3"
  },
  "language_info": {
   "codemirror_mode": {
    "name": "ipython",
    "version": 3
   },
   "file_extension": ".py",
   "mimetype": "text/x-python",
   "name": "python",
   "nbconvert_exporter": "python",
   "pygments_lexer": "ipython3",
   "version": "3.7.0"
  }
 },
 "nbformat": 4,
 "nbformat_minor": 2
}
